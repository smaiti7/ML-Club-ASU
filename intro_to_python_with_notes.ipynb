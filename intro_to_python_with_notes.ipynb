{
  "nbformat": 4,
  "nbformat_minor": 0,
  "metadata": {
    "colab": {
      "name": "intro to python with notes.ipynb",
      "provenance": [],
      "include_colab_link": true
    },
    "kernelspec": {
      "name": "python3",
      "display_name": "Python 3"
    },
    "language_info": {
      "name": "python"
    }
  },
  "cells": [
    {
      "cell_type": "markdown",
      "metadata": {
        "id": "view-in-github",
        "colab_type": "text"
      },
      "source": [
        "<a href=\"https://colab.research.google.com/github/smaiti7/mLclub-ASU/blob/main/intro_to_python_with_notes.ipynb\" target=\"_parent\"><img src=\"https://colab.research.google.com/assets/colab-badge.svg\" alt=\"Open In Colab\"/></a>"
      ]
    },
    {
      "cell_type": "markdown",
      "source": [
        "## **BASIC PYTHON SYNTAX**"
      ],
      "metadata": {
        "id": "3Nl83l2kWr1n"
      }
    },
    {
      "cell_type": "code",
      "execution_count": null,
      "metadata": {
        "id": "5LyEV2ifkcI4"
      },
      "outputs": [],
      "source": [
        "# This is a comment!\n",
        "# Anything written after the # will be ignored when the code runs"
      ]
    },
    {
      "cell_type": "code",
      "source": [
        "# The print() function prints strings, numbers, or objects (will be converted to strings)\n",
        "print(\"Hello World!\")"
      ],
      "metadata": {
        "colab": {
          "base_uri": "https://localhost:8080/"
        },
        "id": "Uy69mW3xWw8Q",
        "outputId": "8f11b6cb-7143-4355-a85e-dd254e447f20"
      },
      "execution_count": null,
      "outputs": [
        {
          "output_type": "stream",
          "name": "stdout",
          "text": [
            "Hello World!\n"
          ]
        }
      ]
    },
    {
      "cell_type": "code",
      "source": [
        "# Creating variables\n",
        "x = 5 # x is just a place holder that stores the number 5\n",
        "\n",
        "y = \"hi\" # variables can hold different types of data but you do not have to specify the datatype\n",
        "\n",
        "z = 2.0 + x # float plus an integer will result in a float\n",
        "\n",
        "Cat = \"meow\" # variable names can be any combination of numbers, letters, or _, and they are case sensitive!\n",
        "\n",
        "print(z) # you can use print() to print out the data within a variable\n",
        "print(Cat)"
      ],
      "metadata": {
        "colab": {
          "base_uri": "https://localhost:8080/"
        },
        "id": "TIhrjbbxX6jj",
        "outputId": "4d19adab-c2c1-422a-8fd9-76aa277d65ca"
      },
      "execution_count": null,
      "outputs": [
        {
          "output_type": "stream",
          "name": "stdout",
          "text": [
            "7.0\n",
            "meow\n"
          ]
        }
      ]
    },
    {
      "cell_type": "code",
      "source": [
        "# If you want data to be a specific type you can cast\n",
        "x = str(5) # x will be '5' a string\n",
        "\n",
        "y = int('3') # y will be an in int 3, strings can be denoted by single and double quotes!\n",
        "\n",
        "type(y) # You can check the datatype of a variable using type()"
      ],
      "metadata": {
        "colab": {
          "base_uri": "https://localhost:8080/"
        },
        "id": "45vPwWolZA-q",
        "outputId": "a3773b30-c43a-470d-bcb2-2c58e9b8c9ca"
      },
      "execution_count": null,
      "outputs": [
        {
          "output_type": "execute_result",
          "data": {
            "text/plain": [
              "int"
            ]
          },
          "metadata": {},
          "execution_count": 7
        }
      ]
    },
    {
      "cell_type": "code",
      "source": [
        "# Strings in python can be created with either double or single quotes\n",
        "double_quotes = \"this is a string!\"\n",
        "single_quotes = 'this is also a string!'\n",
        "print(type(double_quotes))\n",
        "print(type(single_quotes))\n",
        "\n",
        "string = \"this string has 30 characters!\"\n",
        "print(len(string)) # len() will return the number of characters in a given string\n",
        "len(\"four\")"
      ],
      "metadata": {
        "colab": {
          "base_uri": "https://localhost:8080/"
        },
        "id": "uuXu_E0V1ARL",
        "outputId": "3a9d99ca-8912-4d5a-fc11-143f11cc5fd8"
      },
      "execution_count": null,
      "outputs": [
        {
          "output_type": "stream",
          "name": "stdout",
          "text": [
            "<class 'str'>\n",
            "<class 'str'>\n",
            "30\n"
          ]
        },
        {
          "output_type": "execute_result",
          "data": {
            "text/plain": [
              "4"
            ]
          },
          "metadata": {},
          "execution_count": 12
        }
      ]
    },
    {
      "cell_type": "markdown",
      "source": [
        "#### *Mathematical Operators*\n",
        "<pre>\n",
        "Addition         +\n",
        "Subtraction      -\n",
        "Multiplication   *\n",
        "Power            **\n",
        "Division         /\n",
        "Floor Division   //\n",
        "Modulus          %\n",
        "</pre>"
      ],
      "metadata": {
        "id": "B-1CMU-la8f7"
      }
    },
    {
      "cell_type": "code",
      "source": [
        "# You can use the above operators to perform different functions\n",
        "x = 12 * 2\n",
        "print(x - 5/2 + 3) # You can use operators in a print statement too"
      ],
      "metadata": {
        "colab": {
          "base_uri": "https://localhost:8080/"
        },
        "id": "fyfpx4VnZp88",
        "outputId": "1311d8ae-7357-4f5a-e0a5-4fcf2d2a8759"
      },
      "execution_count": null,
      "outputs": [
        {
          "output_type": "stream",
          "name": "stdout",
          "text": [
            "24.5\n"
          ]
        }
      ]
    },
    {
      "cell_type": "markdown",
      "source": [
        "## **LISTS**"
      ],
      "metadata": {
        "id": "CT18-eXYXKNf"
      }
    },
    {
      "cell_type": "code",
      "source": [
        "# Lists contain a sequence of values\n",
        "my_list = [] # This instantiates a new empty list\n",
        "my_list.append(1) # append() adds objects to the list\n",
        "my_list.append(2)\n",
        "my_list.append(3)\n",
        "my_list.append(4)\n",
        "my_list.append(5)\n",
        "my_list"
      ],
      "metadata": {
        "id": "Wf_8VuFoXJZz",
        "colab": {
          "base_uri": "https://localhost:8080/"
        },
        "outputId": "a3c33acd-8653-4032-8a5a-694fde3d49ab"
      },
      "execution_count": null,
      "outputs": [
        {
          "output_type": "execute_result",
          "data": {
            "text/plain": [
              "[1, 2, 3, 4, 5]"
            ]
          },
          "metadata": {},
          "execution_count": 1
        }
      ]
    },
    {
      "cell_type": "code",
      "source": [
        "fruits = [\"apples\", \"bananas\", \"strawberries\"] # You can also create lists like this\n",
        "\n",
        "print(fruits[0]) # You can access varriables through their index, lists are indexed starting from zero\n",
        "print(fruits[1])\n",
        "print(fruits[2])"
      ],
      "metadata": {
        "id": "cIWiud8PhMA_",
        "colab": {
          "base_uri": "https://localhost:8080/"
        },
        "outputId": "d03af15b-2e24-46a3-bf7a-0c4dae7a2eae"
      },
      "execution_count": null,
      "outputs": [
        {
          "output_type": "stream",
          "name": "stdout",
          "text": [
            "apples\n",
            "bananas\n",
            "straberries\n"
          ]
        }
      ]
    },
    {
      "cell_type": "code",
      "source": [
        "len(my_list) # The len() function counts the number of elements in an object"
      ],
      "metadata": {
        "colab": {
          "base_uri": "https://localhost:8080/"
        },
        "id": "ZvysLI3M0ee0",
        "outputId": "4c08eeee-d20b-4d49-a62a-d2c83e391dfc"
      },
      "execution_count": null,
      "outputs": [
        {
          "output_type": "execute_result",
          "data": {
            "text/plain": [
              "5"
            ]
          },
          "metadata": {},
          "execution_count": 2
        }
      ]
    },
    {
      "cell_type": "markdown",
      "source": [
        "## **NUMPY ARRAYS**"
      ],
      "metadata": {
        "id": "E0zqNRXKo8UB"
      }
    },
    {
      "cell_type": "code",
      "source": [
        "# NumPy is a powerful python library that we use for arrays and it is often used in ML\n",
        "import numpy as np # To access NumPy functions and create NumPy arrays you have to import the library\n",
        "\n",
        "arr = np.array([0, 1, 2, 3, 4, 5]) # Use the array() function to create NumPy arrays\n",
        "\n",
        "print(arr)\n",
        "print(type(arr))"
      ],
      "metadata": {
        "colab": {
          "base_uri": "https://localhost:8080/"
        },
        "id": "p5Nm-5repCd5",
        "outputId": "6f0af182-ec82-44d8-ce3c-0c3aa42500b7"
      },
      "execution_count": null,
      "outputs": [
        {
          "output_type": "stream",
          "name": "stdout",
          "text": [
            "[0 1 2 3 4 5]\n",
            "<class 'numpy.ndarray'>\n"
          ]
        }
      ]
    },
    {
      "cell_type": "markdown",
      "source": [
        "NumPy arrays can have multiple dimensions!"
      ],
      "metadata": {
        "id": "icnXkdk7rSPF"
      }
    },
    {
      "cell_type": "code",
      "source": [
        "# NumPy has functions that allow for quick arithmetic between arrays!\n",
        "arr1 = np.array([0, 1, 2, 3])\n",
        "arr2 = np.array([3, 2, 1, 0])\n",
        "\n",
        "new_arr = np.add(arr1, arr2) # adds 0+3, 1+2, 2+1, 3+0\n",
        "added = arr1 + arr2 # This line is the same as the one above!\n",
        "print(new_arr)"
      ],
      "metadata": {
        "colab": {
          "base_uri": "https://localhost:8080/"
        },
        "id": "XGwd0hIOrnE_",
        "outputId": "42913f61-1ba5-4481-e24a-6475c34dadb2"
      },
      "execution_count": null,
      "outputs": [
        {
          "output_type": "stream",
          "name": "stdout",
          "text": [
            "[3 3 3 3]\n"
          ]
        }
      ]
    },
    {
      "cell_type": "code",
      "source": [
        "# This is what would happen if we tried the above with lists instead of arrays!\n",
        "l1 = [0, 1, 2, 3]\n",
        "l2 = [3, 2, 1, 0]\n",
        "\n",
        "l3 = l1 + l2\n",
        "print(l3)"
      ],
      "metadata": {
        "colab": {
          "base_uri": "https://localhost:8080/"
        },
        "id": "Olm2tUuTObg0",
        "outputId": "7e69f90a-0d4e-4078-e35c-44fb43e0f5c6"
      },
      "execution_count": null,
      "outputs": [
        {
          "output_type": "stream",
          "name": "stdout",
          "text": [
            "[0, 1, 2, 3, 3, 2, 1, 0]\n"
          ]
        }
      ]
    },
    {
      "cell_type": "markdown",
      "source": [
        "####*NumPy Arithmetic*\n",
        "<pre>\n",
        "Addition         add()\n",
        "Subtraction      subtract()\n",
        "Multiplication   multiply()\n",
        "Power            power()\n",
        "Divide           divide()\n",
        "Remainder        mod() or remainder()\n",
        "</pre>\n",
        "All of these functions will compute the values and return the results in a new array. You can also just use mathematical operators instead of methods. Using the methods just allow for more parameters."
      ],
      "metadata": {
        "id": "ZiLnrsLysSXD"
      }
    },
    {
      "cell_type": "markdown",
      "source": [
        "[NumPy Documentation](https://numpy.org/doc/)"
      ],
      "metadata": {
        "id": "iUcn1cQH5ass"
      }
    },
    {
      "cell_type": "markdown",
      "source": [
        "## **FOR LOOPS**"
      ],
      "metadata": {
        "id": "wO2RD2YCeOg-"
      }
    },
    {
      "cell_type": "code",
      "source": [
        "# The range() function will produce a sequence of numbers\n",
        "range(5) # Since no starting number was specified, the sequence will start with 0 and stop before 5"
      ],
      "metadata": {
        "colab": {
          "base_uri": "https://localhost:8080/"
        },
        "id": "9FTY8a4s3MSh",
        "outputId": "f80ffe29-60df-4ab3-c80b-33d8f8ac74be"
      },
      "execution_count": null,
      "outputs": [
        {
          "output_type": "execute_result",
          "data": {
            "text/plain": [
              "range(0, 5)"
            ]
          },
          "metadata": {},
          "execution_count": 13
        }
      ]
    },
    {
      "cell_type": "markdown",
      "source": [
        "You can specify different sequences by defining the parameters.\n",
        "\n",
        "**range(** *start*, *stop*, *step* **)**"
      ],
      "metadata": {
        "id": "iqR7FU923yZR"
      }
    },
    {
      "cell_type": "code",
      "source": [
        "# To see the sequence of numbers, you can make the range into a list by using the list() function\n",
        "list(range(0, 11, 2)) # This sequence starts at 0, stops at 10, and increments by 2 producing the output below"
      ],
      "metadata": {
        "colab": {
          "base_uri": "https://localhost:8080/"
        },
        "id": "OAmiB03h3ttk",
        "outputId": "e3d16358-5d56-4c34-d2e2-b72b9b2235b2"
      },
      "execution_count": null,
      "outputs": [
        {
          "output_type": "execute_result",
          "data": {
            "text/plain": [
              "[0, 2, 4, 6, 8, 10]"
            ]
          },
          "metadata": {},
          "execution_count": 14
        }
      ]
    },
    {
      "cell_type": "code",
      "source": [
        "# For loops are used to repeatedly execute a block of code a set number of times\n",
        "t = 0\n",
        "u = 0\n",
        "for v in range(0, 10, 2): # You can use the range() function to excute the code as many times as needed\n",
        "  print(v) # Anything indented after the colon is a part of the block that will be repeated\n",
        "\n",
        "  t += 1 # You can do a variety of things with the code block\n",
        "  \n",
        "  u = u + v # Could also be written as u += v\n",
        "  \n",
        "print(u + t) # This line is not indented so it is not included in the repeated code block "
      ],
      "metadata": {
        "colab": {
          "base_uri": "https://localhost:8080/"
        },
        "id": "bREhZCfEoCYW",
        "outputId": "9e662aeb-ddc3-4a9b-8040-d1577ac76c49"
      },
      "execution_count": null,
      "outputs": [
        {
          "output_type": "stream",
          "name": "stdout",
          "text": [
            "0\n",
            "2\n",
            "4\n",
            "6\n",
            "8\n",
            "25\n"
          ]
        }
      ]
    },
    {
      "cell_type": "code",
      "source": [
        "dogs = [\"beagles\", \"shibas\", \"shepard\", \"corgis\", \"huskies\"]\n",
        "for dog in dogs: # You can also use for loops to iterate through lists\n",
        "  print(dog) # the for loop will output all the elements in a list"
      ],
      "metadata": {
        "colab": {
          "base_uri": "https://localhost:8080/"
        },
        "id": "Pk0b58jxCZcz",
        "outputId": "d36af39d-f3c8-49e3-e931-80a1b34d1420"
      },
      "execution_count": null,
      "outputs": [
        {
          "output_type": "stream",
          "name": "stdout",
          "text": [
            "beagles\n",
            "shibas\n",
            "shepard\n",
            "corgis\n",
            "huskies\n"
          ]
        }
      ]
    },
    {
      "cell_type": "code",
      "source": [
        "# Dictionaries are a collection of ordered data that is stored in pairs\n",
        "\n",
        "cat = {\"breed\": \"shorthair\", \"name\": \"Miso\", \"age\": 1}\n",
        "# data pairs are stored in the forms of key:value\n",
        "\n",
        "print(cat)"
      ],
      "metadata": {
        "colab": {
          "base_uri": "https://localhost:8080/"
        },
        "id": "qzxKT6xNk5pn",
        "outputId": "512ae2ee-fb28-4a67-d56b-efc83e234ab2"
      },
      "execution_count": null,
      "outputs": [
        {
          "output_type": "stream",
          "name": "stdout",
          "text": [
            "{'breed': 'shorthair', 'name': 'Miso', 'age': 1}\n"
          ]
        }
      ]
    },
    {
      "cell_type": "code",
      "source": [
        "# You can use for loops to iterate through dictionaries\n",
        "\n",
        "for x in cat.values(): # use .values() to print the values of the dictionary\n",
        "  print(x)\n",
        "\n",
        "for y in cat.keys(): # use .keys() to print the keys of the dictionary\n",
        "  print(y)\n",
        "\n",
        "for k, v in cat.items(): # use .items() to print both the keys and the values\n",
        "  print(k + \": \" + str(v))"
      ],
      "metadata": {
        "colab": {
          "base_uri": "https://localhost:8080/"
        },
        "id": "t61Vld7lmti9",
        "outputId": "11d4adad-4b9a-4d94-9abf-831034648fec"
      },
      "execution_count": null,
      "outputs": [
        {
          "output_type": "stream",
          "name": "stdout",
          "text": [
            "shorthair\n",
            "Miso\n",
            "1\n",
            "breed\n",
            "name\n",
            "age\n",
            "breed: shorthair\n",
            "name: Miso\n",
            "age: 1\n"
          ]
        }
      ]
    },
    {
      "cell_type": "code",
      "source": [
        "fruits = [\"apples\", \"bananas\", \"strawberries\"]\n",
        "for num in range(len(fruits)): # This iterates for the length of the list\n",
        "  print(\"This fruit basket contains \" + fruits[num] + \"!\")"
      ],
      "metadata": {
        "colab": {
          "base_uri": "https://localhost:8080/"
        },
        "id": "4_0VY5MsDWTY",
        "outputId": "e61c3345-1b81-418a-9120-3d54ef20a0a0"
      },
      "execution_count": null,
      "outputs": [
        {
          "output_type": "stream",
          "name": "stdout",
          "text": [
            "This fruit basket contains apples!\n",
            "This fruit basket contains bananas!\n",
            "This fruit basket contains straberries!\n"
          ]
        }
      ]
    },
    {
      "cell_type": "markdown",
      "source": [
        "## **IF** **STATEMENTS**"
      ],
      "metadata": {
        "id": "sKOwfb2NeO5a"
      }
    },
    {
      "cell_type": "code",
      "source": [
        "# If statements are used to test logical conditions\n",
        "a = 3\n",
        "b = 3\n",
        "\n",
        "if a < b: # This is the condition that will be tested\n",
        "  print(\"a is less than b\") # This executes if the condition is true\n",
        "\n",
        "elif a == b:\n",
        "  print(\"a is equal to b\") # This excutes if the second condition is true\n",
        "  \n",
        "else:\n",
        "  print(\"a is greater than b\") # This executes if all the conditions are false"
      ],
      "metadata": {
        "id": "he0VwIV-eWHA",
        "colab": {
          "base_uri": "https://localhost:8080/"
        },
        "outputId": "5748a775-0f18-4554-b6fa-e31aee7ce75d"
      },
      "execution_count": null,
      "outputs": [
        {
          "output_type": "stream",
          "name": "stdout",
          "text": [
            "They are equal!\n"
          ]
        }
      ]
    },
    {
      "cell_type": "markdown",
      "source": [
        "####*Logic Conditionals*\n",
        "\n",
        "<pre>\n",
        "Equals                      ==\n",
        "Not Equals                  !=\n",
        "Less than                   <\n",
        "Less than or equal to       <=\n",
        "Greater than                >\n",
        "Greater than or equal to    >=\n",
        "</pre>\n",
        "\n",
        "Conditionals can be used in if-statements and loops!"
      ],
      "metadata": {
        "id": "H9pUIGAlH5bU"
      }
    },
    {
      "cell_type": "code",
      "source": [
        "# You can also use if statements within loops!\n",
        "dogs = [\"beagles\", \"shibas\", \"shepard\", \"corgis\", \"huskies\"]\n",
        "\n",
        "for i in range(len(dogs)):\n",
        "  if dogs[i] != \"shepard\": # Tests if the current item in the list is NOT equal to \"shepard\"\n",
        "    print(dogs[i]) # If the current item is not \"shepard\" it will print out the item"
      ],
      "metadata": {
        "colab": {
          "base_uri": "https://localhost:8080/"
        },
        "id": "vskmHCCqBc1I",
        "outputId": "c6064f04-8f19-451f-f7e6-a6de5594d315"
      },
      "execution_count": null,
      "outputs": [
        {
          "output_type": "stream",
          "name": "stdout",
          "text": [
            "beagles\n",
            "shibas\n",
            "corgis\n",
            "huskies\n"
          ]
        }
      ]
    },
    {
      "cell_type": "markdown",
      "source": [
        "## **WHILE LOOPS**"
      ],
      "metadata": {
        "id": "ZRbUcJ6keWyS"
      }
    },
    {
      "cell_type": "code",
      "source": [
        "# While loops, similar to for loops, repeatedly execute a block of code as long as a condition is true\n",
        "i = 0\n",
        "\n",
        "while i <= 5:\n",
        "  print(\"i: \" + str(i))\n",
        "  i += 1 \n",
        "# The loop will stop printing once i is no longer less than or equal to 5"
      ],
      "metadata": {
        "colab": {
          "base_uri": "https://localhost:8080/"
        },
        "id": "Y0x4VUraB1Yw",
        "outputId": "fba8a09e-73ff-4f8a-b13d-ff50a566c886"
      },
      "execution_count": null,
      "outputs": [
        {
          "output_type": "stream",
          "name": "stdout",
          "text": [
            "i: 0\n",
            "i: 1\n",
            "i: 2\n",
            "i: 3\n",
            "i: 4\n",
            "i: 5\n"
          ]
        }
      ]
    },
    {
      "cell_type": "markdown",
      "source": [
        "It is important to make sure that the condition will eventually be false or you may end up with infinite loops in your code."
      ],
      "metadata": {
        "id": "hXKfshtHidym"
      }
    },
    {
      "cell_type": "code",
      "source": [
        "# A sample while loop that uses the if, elif, and else statements\n",
        "fruits = [\"apples\", \"bananas\", \"strawberries\"]\n",
        "a = 0\n",
        "no_berries = True\n",
        "while no_berries:\n",
        "  if fruits[a] == \"blueberries\":\n",
        "    print(\"This basket contains blueberries!\")\n",
        "    no_berries = False\n",
        "  elif a + 1 < len(fruits):\n",
        "    a += 1\n",
        "  else:\n",
        "    print(\"This basket does not contain blueberries :(\")\n",
        "    break # The break statement will exit out of the loop without having to test if the condition is true\n"
      ],
      "metadata": {
        "id": "GpgbnyaMeZf-",
        "colab": {
          "base_uri": "https://localhost:8080/"
        },
        "outputId": "55663ae6-a6cc-4f8e-a078-39290b529958"
      },
      "execution_count": null,
      "outputs": [
        {
          "output_type": "stream",
          "name": "stdout",
          "text": [
            "This basket does not contain blueberries :(\n"
          ]
        }
      ]
    },
    {
      "cell_type": "code",
      "source": [
        "# You can also put for loops into a while loop!\n",
        "dogs = [\"beagles\", \"shibas\", \"shepard\", \"corgis\", \"huskies\"]\n",
        "d = True\n",
        "while d:\n",
        "  for num in range(len(dogs)):\n",
        "    if dogs[num] == \"shibas\":\n",
        "      d = False\n",
        "      break # This break statement only applies to the for loop!\n",
        "    else:\n",
        "      print(\"This shelter has: \" + dogs[num])"
      ],
      "metadata": {
        "colab": {
          "base_uri": "https://localhost:8080/"
        },
        "id": "2-e2bAQQk2jH",
        "outputId": "c1955d16-b5e1-456c-bda0-2eda6b9b40bd"
      },
      "execution_count": null,
      "outputs": [
        {
          "output_type": "stream",
          "name": "stdout",
          "text": [
            "This shelter has: beagles\n"
          ]
        }
      ]
    },
    {
      "cell_type": "markdown",
      "source": [
        "### **WRITING AND READING FILES**"
      ],
      "metadata": {
        "id": "2uEl32b-fCPb"
      }
    },
    {
      "cell_type": "code",
      "source": [
        "with open('intro.txt', 'w') as a_file: # with open context manager which will automatically close the files for you\n",
        "  a_file.write(\"hello !\") # be mindful of the whitespace! if this line wasn't indented it would not write to the file\n",
        "  a_file.write(\"\\nthis is a text file\") # \\n is a newline character so it will type this string on a new line!"
      ],
      "metadata": {
        "id": "jkmnND9SfFL0"
      },
      "execution_count": null,
      "outputs": []
    },
    {
      "cell_type": "markdown",
      "source": [
        "It's important to make sure your files are close so you don't accidentally mess with it. It can also cause buffering issues and sometimes changes in a file won't show up until it is closed."
      ],
      "metadata": {
        "id": "TR4cM7gINacG"
      }
    },
    {
      "cell_type": "code",
      "source": [
        "a_file = open('intro.txt')\n",
        "for line in a_file: # for each line in a_file\n",
        "  print(line) # this loop will print out each line"
      ],
      "metadata": {
        "colab": {
          "base_uri": "https://localhost:8080/"
        },
        "id": "mfLPCrUWkE6Z",
        "outputId": "b0cba607-0dac-4977-f626-1bf69de70432"
      },
      "execution_count": null,
      "outputs": [
        {
          "output_type": "stream",
          "name": "stdout",
          "text": [
            "hello !\n",
            "\n",
            "this is a text file\n"
          ]
        }
      ]
    },
    {
      "cell_type": "code",
      "source": [],
      "metadata": {
        "id": "O5MMfUudkGu3"
      },
      "execution_count": null,
      "outputs": []
    }
  ]
}